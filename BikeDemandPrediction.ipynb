{
 "cells": [
  {
   "cell_type": "code",
   "execution_count": 14,
   "id": "3a107cf3",
   "metadata": {},
   "outputs": [],
   "source": [
    "# Steps to solve the problem"
   ]
  },
  {
   "cell_type": "code",
   "execution_count": 15,
   "id": "81f5e8df",
   "metadata": {},
   "outputs": [],
   "source": [
    "# ----------------------------\n",
    "# Step 0 - import Libraries\n",
    "# ----------------------------"
   ]
  },
  {
   "cell_type": "code",
   "execution_count": 213,
   "id": "2df11da2",
   "metadata": {},
   "outputs": [],
   "source": [
    "import pandas as pd\n",
    "import matplotlib.pyplot as plt\n",
    "import numpy as np\n",
    "import math"
   ]
  },
  {
   "cell_type": "code",
   "execution_count": 214,
   "id": "45d7952c",
   "metadata": {},
   "outputs": [],
   "source": [
    "# -----------------------\n",
    "# Step1 - Read the data\n",
    "# -----------------------"
   ]
  },
  {
   "cell_type": "code",
   "execution_count": 215,
   "id": "5504a6c9",
   "metadata": {},
   "outputs": [],
   "source": [
    "bikes = pd.read_csv('hour.csv')"
   ]
  },
  {
   "cell_type": "code",
   "execution_count": 216,
   "id": "2943fd8f",
   "metadata": {},
   "outputs": [
    {
     "data": {
      "text/plain": [
       "(17379, 17)"
      ]
     },
     "execution_count": 216,
     "metadata": {},
     "output_type": "execute_result"
    }
   ],
   "source": [
    "bikes.shape"
   ]
  },
  {
   "cell_type": "code",
   "execution_count": 217,
   "id": "49290496",
   "metadata": {},
   "outputs": [
    {
     "data": {
      "text/html": [
       "<div>\n",
       "<style scoped>\n",
       "    .dataframe tbody tr th:only-of-type {\n",
       "        vertical-align: middle;\n",
       "    }\n",
       "\n",
       "    .dataframe tbody tr th {\n",
       "        vertical-align: top;\n",
       "    }\n",
       "\n",
       "    .dataframe thead th {\n",
       "        text-align: right;\n",
       "    }\n",
       "</style>\n",
       "<table border=\"1\" class=\"dataframe\">\n",
       "  <thead>\n",
       "    <tr style=\"text-align: right;\">\n",
       "      <th></th>\n",
       "      <th>index</th>\n",
       "      <th>date</th>\n",
       "      <th>season</th>\n",
       "      <th>year</th>\n",
       "      <th>month</th>\n",
       "      <th>hour</th>\n",
       "      <th>holiday</th>\n",
       "      <th>weekday</th>\n",
       "      <th>workingday</th>\n",
       "      <th>weather</th>\n",
       "      <th>temp</th>\n",
       "      <th>atemp</th>\n",
       "      <th>humidity</th>\n",
       "      <th>windspeed</th>\n",
       "      <th>casual</th>\n",
       "      <th>registered</th>\n",
       "      <th>demand</th>\n",
       "    </tr>\n",
       "  </thead>\n",
       "  <tbody>\n",
       "    <tr>\n",
       "      <th>0</th>\n",
       "      <td>1</td>\n",
       "      <td>01-01-2011</td>\n",
       "      <td>1</td>\n",
       "      <td>0</td>\n",
       "      <td>1</td>\n",
       "      <td>0</td>\n",
       "      <td>0</td>\n",
       "      <td>6</td>\n",
       "      <td>0</td>\n",
       "      <td>1</td>\n",
       "      <td>0.24</td>\n",
       "      <td>0.2879</td>\n",
       "      <td>0.81</td>\n",
       "      <td>0.0</td>\n",
       "      <td>3</td>\n",
       "      <td>13</td>\n",
       "      <td>16</td>\n",
       "    </tr>\n",
       "    <tr>\n",
       "      <th>1</th>\n",
       "      <td>2</td>\n",
       "      <td>01-01-2011</td>\n",
       "      <td>1</td>\n",
       "      <td>0</td>\n",
       "      <td>1</td>\n",
       "      <td>1</td>\n",
       "      <td>0</td>\n",
       "      <td>6</td>\n",
       "      <td>0</td>\n",
       "      <td>1</td>\n",
       "      <td>0.22</td>\n",
       "      <td>0.2727</td>\n",
       "      <td>0.80</td>\n",
       "      <td>0.0</td>\n",
       "      <td>8</td>\n",
       "      <td>32</td>\n",
       "      <td>40</td>\n",
       "    </tr>\n",
       "    <tr>\n",
       "      <th>2</th>\n",
       "      <td>3</td>\n",
       "      <td>01-01-2011</td>\n",
       "      <td>1</td>\n",
       "      <td>0</td>\n",
       "      <td>1</td>\n",
       "      <td>2</td>\n",
       "      <td>0</td>\n",
       "      <td>6</td>\n",
       "      <td>0</td>\n",
       "      <td>1</td>\n",
       "      <td>0.22</td>\n",
       "      <td>0.2727</td>\n",
       "      <td>0.80</td>\n",
       "      <td>0.0</td>\n",
       "      <td>5</td>\n",
       "      <td>27</td>\n",
       "      <td>32</td>\n",
       "    </tr>\n",
       "    <tr>\n",
       "      <th>3</th>\n",
       "      <td>4</td>\n",
       "      <td>01-01-2011</td>\n",
       "      <td>1</td>\n",
       "      <td>0</td>\n",
       "      <td>1</td>\n",
       "      <td>3</td>\n",
       "      <td>0</td>\n",
       "      <td>6</td>\n",
       "      <td>0</td>\n",
       "      <td>1</td>\n",
       "      <td>0.24</td>\n",
       "      <td>0.2879</td>\n",
       "      <td>0.75</td>\n",
       "      <td>0.0</td>\n",
       "      <td>3</td>\n",
       "      <td>10</td>\n",
       "      <td>13</td>\n",
       "    </tr>\n",
       "    <tr>\n",
       "      <th>4</th>\n",
       "      <td>5</td>\n",
       "      <td>01-01-2011</td>\n",
       "      <td>1</td>\n",
       "      <td>0</td>\n",
       "      <td>1</td>\n",
       "      <td>4</td>\n",
       "      <td>0</td>\n",
       "      <td>6</td>\n",
       "      <td>0</td>\n",
       "      <td>1</td>\n",
       "      <td>0.24</td>\n",
       "      <td>0.2879</td>\n",
       "      <td>0.75</td>\n",
       "      <td>0.0</td>\n",
       "      <td>0</td>\n",
       "      <td>1</td>\n",
       "      <td>1</td>\n",
       "    </tr>\n",
       "  </tbody>\n",
       "</table>\n",
       "</div>"
      ],
      "text/plain": [
       "   index        date  season  year  month  hour  holiday  weekday  workingday  \\\n",
       "0      1  01-01-2011       1     0      1     0        0        6           0   \n",
       "1      2  01-01-2011       1     0      1     1        0        6           0   \n",
       "2      3  01-01-2011       1     0      1     2        0        6           0   \n",
       "3      4  01-01-2011       1     0      1     3        0        6           0   \n",
       "4      5  01-01-2011       1     0      1     4        0        6           0   \n",
       "\n",
       "   weather  temp   atemp  humidity  windspeed  casual  registered  demand  \n",
       "0        1  0.24  0.2879      0.81        0.0       3          13      16  \n",
       "1        1  0.22  0.2727      0.80        0.0       8          32      40  \n",
       "2        1  0.22  0.2727      0.80        0.0       5          27      32  \n",
       "3        1  0.24  0.2879      0.75        0.0       3          10      13  \n",
       "4        1  0.24  0.2879      0.75        0.0       0           1       1  "
      ]
     },
     "execution_count": 217,
     "metadata": {},
     "output_type": "execute_result"
    }
   ],
   "source": [
    "bikes.head(5)"
   ]
  },
  {
   "cell_type": "code",
   "execution_count": 218,
   "id": "351d8bcf",
   "metadata": {},
   "outputs": [],
   "source": [
    "# ---------------------------------------------\n",
    "# Step 2 - Prelim Analysis and Feature selection\n",
    "# ----------------------------------------------"
   ]
  },
  {
   "cell_type": "code",
   "execution_count": 219,
   "id": "90ad93b9",
   "metadata": {},
   "outputs": [],
   "source": [
    "bikes_prep = bikes.copy()"
   ]
  },
  {
   "cell_type": "code",
   "execution_count": 220,
   "id": "4ee3ad57",
   "metadata": {},
   "outputs": [],
   "source": [
    "bikes_prep = bikes_prep.drop(['index', 'date', 'casual', 'registered'], axis = 1)"
   ]
  },
  {
   "cell_type": "code",
   "execution_count": 221,
   "id": "51783933",
   "metadata": {},
   "outputs": [
    {
     "data": {
      "text/plain": [
       "(17379, 13)"
      ]
     },
     "execution_count": 221,
     "metadata": {},
     "output_type": "execute_result"
    }
   ],
   "source": [
    "bikes_prep.shape"
   ]
  },
  {
   "cell_type": "code",
   "execution_count": 222,
   "id": "a4ef858b",
   "metadata": {},
   "outputs": [
    {
     "data": {
      "text/html": [
       "<div>\n",
       "<style scoped>\n",
       "    .dataframe tbody tr th:only-of-type {\n",
       "        vertical-align: middle;\n",
       "    }\n",
       "\n",
       "    .dataframe tbody tr th {\n",
       "        vertical-align: top;\n",
       "    }\n",
       "\n",
       "    .dataframe thead th {\n",
       "        text-align: right;\n",
       "    }\n",
       "</style>\n",
       "<table border=\"1\" class=\"dataframe\">\n",
       "  <thead>\n",
       "    <tr style=\"text-align: right;\">\n",
       "      <th></th>\n",
       "      <th>season</th>\n",
       "      <th>year</th>\n",
       "      <th>month</th>\n",
       "      <th>hour</th>\n",
       "      <th>holiday</th>\n",
       "      <th>weekday</th>\n",
       "      <th>workingday</th>\n",
       "      <th>weather</th>\n",
       "      <th>temp</th>\n",
       "      <th>atemp</th>\n",
       "      <th>humidity</th>\n",
       "      <th>windspeed</th>\n",
       "      <th>demand</th>\n",
       "    </tr>\n",
       "  </thead>\n",
       "  <tbody>\n",
       "    <tr>\n",
       "      <th>0</th>\n",
       "      <td>1</td>\n",
       "      <td>0</td>\n",
       "      <td>1</td>\n",
       "      <td>0</td>\n",
       "      <td>0</td>\n",
       "      <td>6</td>\n",
       "      <td>0</td>\n",
       "      <td>1</td>\n",
       "      <td>0.24</td>\n",
       "      <td>0.2879</td>\n",
       "      <td>0.81</td>\n",
       "      <td>0.0</td>\n",
       "      <td>16</td>\n",
       "    </tr>\n",
       "    <tr>\n",
       "      <th>1</th>\n",
       "      <td>1</td>\n",
       "      <td>0</td>\n",
       "      <td>1</td>\n",
       "      <td>1</td>\n",
       "      <td>0</td>\n",
       "      <td>6</td>\n",
       "      <td>0</td>\n",
       "      <td>1</td>\n",
       "      <td>0.22</td>\n",
       "      <td>0.2727</td>\n",
       "      <td>0.80</td>\n",
       "      <td>0.0</td>\n",
       "      <td>40</td>\n",
       "    </tr>\n",
       "    <tr>\n",
       "      <th>2</th>\n",
       "      <td>1</td>\n",
       "      <td>0</td>\n",
       "      <td>1</td>\n",
       "      <td>2</td>\n",
       "      <td>0</td>\n",
       "      <td>6</td>\n",
       "      <td>0</td>\n",
       "      <td>1</td>\n",
       "      <td>0.22</td>\n",
       "      <td>0.2727</td>\n",
       "      <td>0.80</td>\n",
       "      <td>0.0</td>\n",
       "      <td>32</td>\n",
       "    </tr>\n",
       "    <tr>\n",
       "      <th>3</th>\n",
       "      <td>1</td>\n",
       "      <td>0</td>\n",
       "      <td>1</td>\n",
       "      <td>3</td>\n",
       "      <td>0</td>\n",
       "      <td>6</td>\n",
       "      <td>0</td>\n",
       "      <td>1</td>\n",
       "      <td>0.24</td>\n",
       "      <td>0.2879</td>\n",
       "      <td>0.75</td>\n",
       "      <td>0.0</td>\n",
       "      <td>13</td>\n",
       "    </tr>\n",
       "    <tr>\n",
       "      <th>4</th>\n",
       "      <td>1</td>\n",
       "      <td>0</td>\n",
       "      <td>1</td>\n",
       "      <td>4</td>\n",
       "      <td>0</td>\n",
       "      <td>6</td>\n",
       "      <td>0</td>\n",
       "      <td>1</td>\n",
       "      <td>0.24</td>\n",
       "      <td>0.2879</td>\n",
       "      <td>0.75</td>\n",
       "      <td>0.0</td>\n",
       "      <td>1</td>\n",
       "    </tr>\n",
       "  </tbody>\n",
       "</table>\n",
       "</div>"
      ],
      "text/plain": [
       "   season  year  month  hour  holiday  weekday  workingday  weather  temp  \\\n",
       "0       1     0      1     0        0        6           0        1  0.24   \n",
       "1       1     0      1     1        0        6           0        1  0.22   \n",
       "2       1     0      1     2        0        6           0        1  0.22   \n",
       "3       1     0      1     3        0        6           0        1  0.24   \n",
       "4       1     0      1     4        0        6           0        1  0.24   \n",
       "\n",
       "    atemp  humidity  windspeed  demand  \n",
       "0  0.2879      0.81        0.0      16  \n",
       "1  0.2727      0.80        0.0      40  \n",
       "2  0.2727      0.80        0.0      32  \n",
       "3  0.2879      0.75        0.0      13  \n",
       "4  0.2879      0.75        0.0       1  "
      ]
     },
     "execution_count": 222,
     "metadata": {},
     "output_type": "execute_result"
    }
   ],
   "source": [
    "bikes_prep.head(5)"
   ]
  },
  {
   "cell_type": "code",
   "execution_count": 223,
   "id": "8a3042e3",
   "metadata": {},
   "outputs": [],
   "source": [
    "# Basic checks of missing values"
   ]
  },
  {
   "cell_type": "code",
   "execution_count": 224,
   "id": "94461a7e",
   "metadata": {},
   "outputs": [
    {
     "data": {
      "text/plain": [
       "season        0\n",
       "year          0\n",
       "month         0\n",
       "hour          0\n",
       "holiday       0\n",
       "weekday       0\n",
       "workingday    0\n",
       "weather       0\n",
       "temp          0\n",
       "atemp         0\n",
       "humidity      0\n",
       "windspeed     0\n",
       "demand        0\n",
       "dtype: int64"
      ]
     },
     "execution_count": 224,
     "metadata": {},
     "output_type": "execute_result"
    }
   ],
   "source": [
    "bikes_prep.isnull().sum()"
   ]
  },
  {
   "cell_type": "code",
   "execution_count": 225,
   "id": "ee851a4a",
   "metadata": {},
   "outputs": [],
   "source": [
    "# visualise the data using pandas histogram"
   ]
  },
  {
   "cell_type": "code",
   "execution_count": 226,
   "id": "20f9c707",
   "metadata": {},
   "outputs": [
    {
     "data": {
      "image/png": "[encoded data removed]",
      "text/plain": [
       "<Figure size 432x288 with 16 Axes>"
      ]
     },
     "metadata": {
      "needs_background": "light"
     },
     "output_type": "display_data"
    }
   ],
   "source": [
    "bikes_prep.hist(rwidth=0.9)\n",
    "plt.tight_layout()\n",
    "plt.show()"
   ]
  },
  {
   "cell_type": "code",
   "execution_count": 227,
   "id": "bc60a7b6",
   "metadata": {},
   "outputs": [],
   "source": [
    "# Conclusion:\n",
    "# - Predicted variable demand is not normally distributed"
   ]
  },
  {
   "cell_type": "code",
   "execution_count": 228,
   "id": "81e41860",
   "metadata": {},
   "outputs": [],
   "source": [
    "# ------------------------\n",
    "# Step 3 - Data Visualisation\n",
    "# ------------------------"
   ]
  },
  {
   "cell_type": "code",
   "execution_count": 229,
   "id": "d7d47bf0",
   "metadata": {},
   "outputs": [],
   "source": [
    "# Visualise the continuous features Vs demand"
   ]
  },
  {
   "cell_type": "code",
   "execution_count": 230,
   "id": "22ee4e0c",
   "metadata": {},
   "outputs": [
    {
     "data": {
      "image/png": "[encoded data removed]",
      "text/plain": [
       "<Figure size 1152x864 with 4 Axes>"
      ]
     },
     "metadata": {
      "needs_background": "light"
     },
     "output_type": "display_data"
    }
   ],
   "source": [
    "plt.figure(figsize=(16,12))\n",
    "\n",
    "plt.subplot(2,2,1)\n",
    "plt.title('Temperature Vs Demand')\n",
    "plt.scatter(bikes_prep['temp'], bikes_prep['demand'], s = 2, c = 'g')\n",
    "\n",
    "plt.subplot(2,2,2)\n",
    "plt.title('aTemp Vs Demand')\n",
    "plt.scatter(bikes_prep['atemp'], bikes_prep['demand'], s =2, c = 'b')\n",
    "\n",
    "plt.subplot(2,2,3)\n",
    "plt.title('Humidity Vs Demand')\n",
    "plt.scatter(bikes_prep['humidity'], bikes_prep['demand'], s =2, c = 'm')\n",
    "\n",
    "plt.subplot(2,2,4)\n",
    "plt.title('Windspeed Vs Demand')\n",
    "plt.scatter(bikes_prep['windspeed'], bikes_prep['demand'], s =2, c = 'c')\n",
    "\n",
    "plt.tight_layout()\n",
    "plt.show()"
   ]
  },
  {
   "cell_type": "code",
   "execution_count": 231,
   "id": "5a3abc7f",
   "metadata": {},
   "outputs": [],
   "source": [
    "#  Plot the categorical features vs demand"
   ]
  },
  {
   "cell_type": "code",
   "execution_count": 232,
   "id": "c1d3245f",
   "metadata": {},
   "outputs": [],
   "source": [
    "# Create unique seasons values\n",
    "cat_list = bikes_prep['season'].unique()"
   ]
  },
  {
   "cell_type": "code",
   "execution_count": 233,
   "id": "32bcd723",
   "metadata": {},
   "outputs": [],
   "source": [
    "# Create average demand per season using groupby\n",
    "cat_average = bikes_prep.groupby('season').mean()['demand']"
   ]
  },
  {
   "cell_type": "code",
   "execution_count": 234,
   "id": "e1f3b79b",
   "metadata": {},
   "outputs": [
    {
     "data": {
      "image/png": "[encoded data removed]",
      "text/plain": [
       "<Figure size 1800x1152 with 8 Axes>"
      ]
     },
     "metadata": {
      "needs_background": "light"
     },
     "output_type": "display_data"
    }
   ],
   "source": [
    "plt.figure(figsize=(25,16))\n",
    "\n",
    "plt.subplot(3,3,1)\n",
    "cat_list = bikes_prep['season'].unique()\n",
    "cat_average = bikes_prep.groupby('season').mean()['demand']\n",
    "plt.title(\"Average Demand per Seasons\")\n",
    "colours = ['g', 'r', 'm', 'b']\n",
    "plt.bar(cat_list, cat_average, color = colours)\n",
    "\n",
    "plt.subplot(3,3,2)\n",
    "plt.title(\"Average Demand per month\")\n",
    "cat_list = bikes_prep['month'].unique()\n",
    "cat_average = bikes_prep.groupby('month').mean()['demand']\n",
    "plt.bar(cat_list, cat_average, color = colours)\n",
    "\n",
    "plt.subplot(3,3,3)\n",
    "plt.title(\"Average Demand per Holiday\")\n",
    "cat_list = bikes_prep['holiday'].unique()\n",
    "cat_average = bikes_prep.groupby('holiday').mean()['demand']\n",
    "plt.bar(cat_list, cat_average, color = colours)\n",
    "\n",
    "plt.subplot(3,3,4)\n",
    "plt.title(\"Average Demand per Weekday\")\n",
    "cat_list = bikes_prep['weekday'].unique()\n",
    "cat_average = bikes_prep.groupby('weekday').mean()['demand']\n",
    "plt.bar(cat_list, cat_average, color = colours)\n",
    "\n",
    "plt.subplot(3,3,5)\n",
    "plt.title(\"Average Demand per Year\")\n",
    "cat_list = bikes_prep['year'].unique()\n",
    "cat_average = bikes_prep.groupby('year').mean()['demand']\n",
    "plt.bar(cat_list, cat_average, color = colours)\n",
    "\n",
    "plt.subplot(3,3,6)\n",
    "plt.title(\"Average Demand per hour\")\n",
    "cat_list = bikes_prep['hour'].unique()\n",
    "cat_average = bikes_prep.groupby('hour').mean()['demand']\n",
    "plt.bar(cat_list, cat_average, color = colours)\n",
    "\n",
    "plt.subplot(3,3,7)\n",
    "plt.title(\"Average Demand per Workingday\")\n",
    "cat_list = bikes_prep['workingday'].unique()\n",
    "cat_average = bikes_prep.groupby('workingday').mean()['demand']\n",
    "plt.bar(cat_list, cat_average, color = colours)\n",
    "\n",
    "plt.subplot(3,3,8)\n",
    "plt.title(\"Average Demand per Weather\")\n",
    "cat_list = bikes_prep['weather'].unique()\n",
    "cat_average = bikes_prep.groupby('weather').mean()['demand']\n",
    "plt.bar(cat_list, cat_average, color = colours)\n",
    "\n",
    "plt.tight_layout()\n",
    "plt.show()"
   ]
  },
  {
   "cell_type": "code",
   "execution_count": 235,
   "id": "7d0d4688",
   "metadata": {},
   "outputs": [],
   "source": [
    "# Features to be dropped\n",
    "# weakday\n",
    "# year\n",
    "# working day"
   ]
  },
  {
   "cell_type": "code",
   "execution_count": 236,
   "id": "9780b7b4",
   "metadata": {},
   "outputs": [
    {
     "data": {
      "text/plain": [
       "<BarContainer object of 24 artists>"
      ]
     },
     "execution_count": 236,
     "metadata": {},
     "output_type": "execute_result"
    },
    {
     "data": {
      "image/png": "[encoded data removed]",
      "text/plain": [
       "<Figure size 432x288 with 1 Axes>"
      ]
     },
     "metadata": {
      "needs_background": "light"
     },
     "output_type": "display_data"
    }
   ],
   "source": [
    "plt.title(\"Average Demand per hour\")\n",
    "cat_list = bikes_prep['hour'].unique()\n",
    "cat_average = bikes_prep.groupby('hour').mean()['demand']\n",
    "plt.bar(cat_list, cat_average, color = colours)"
   ]
  },
  {
   "cell_type": "code",
   "execution_count": 237,
   "id": "e9396417",
   "metadata": {},
   "outputs": [],
   "source": [
    "# Demand is not normally distribution\n",
    "# Temperature and demand has direct correlation\n",
    "# The plot for temperature and atemp appear almost identical\n",
    "# Humidity and wind speed affect demand but need more statistical analysis"
   ]
  },
  {
   "cell_type": "code",
   "execution_count": 238,
   "id": "5fa98ec6",
   "metadata": {},
   "outputs": [],
   "source": [
    "# There is variation in demand based on \n",
    "# season month holiday hour weather"
   ]
  },
  {
   "cell_type": "code",
   "execution_count": 239,
   "id": "b07de7fc",
   "metadata": {},
   "outputs": [],
   "source": [
    "# No significant change in demand due to weekday or working day\n",
    "# Year-wise growth pattern not considered due to limited number of year"
   ]
  },
  {
   "cell_type": "code",
   "execution_count": 240,
   "id": "925b490e",
   "metadata": {},
   "outputs": [],
   "source": [
    "# --------------\n",
    "# check for outliers\n",
    "# --------------"
   ]
  },
  {
   "cell_type": "code",
   "execution_count": 241,
   "id": "c3e9aacf",
   "metadata": {},
   "outputs": [
    {
     "data": {
      "text/plain": [
       "count    17379.000000\n",
       "mean       189.463088\n",
       "std        181.387599\n",
       "min          1.000000\n",
       "25%         40.000000\n",
       "50%        142.000000\n",
       "75%        281.000000\n",
       "max        977.000000\n",
       "Name: demand, dtype: float64"
      ]
     },
     "execution_count": 241,
     "metadata": {},
     "output_type": "execute_result"
    }
   ],
   "source": [
    "bikes_prep['demand'].describe()"
   ]
  },
  {
   "cell_type": "code",
   "execution_count": 242,
   "id": "1e60e9f0",
   "metadata": {},
   "outputs": [
    {
     "data": {
      "text/plain": [
       "0.05      5.00\n",
       "0.10      9.00\n",
       "0.15     16.00\n",
       "0.90    451.20\n",
       "0.95    563.10\n",
       "0.99    782.22\n",
       "Name: demand, dtype: float64"
      ]
     },
     "execution_count": 242,
     "metadata": {},
     "output_type": "execute_result"
    }
   ],
   "source": [
    "bikes_prep['demand'].quantile([0.05, 0.1, 0.15, 0.9, 0.95, 0.99])"
   ]
  },
  {
   "cell_type": "code",
   "execution_count": 243,
   "id": "15df0a88",
   "metadata": {},
   "outputs": [],
   "source": [
    "# -----------------------------------------------------\n",
    "# Step 4 - Check Multiple Linear Regression Assumptions\n",
    "# -----------------------------------------------------"
   ]
  },
  {
   "cell_type": "code",
   "execution_count": 244,
   "id": "55605739",
   "metadata": {},
   "outputs": [],
   "source": [
    "# Linearity using correlation coefficient matrix using corr"
   ]
  },
  {
   "cell_type": "code",
   "execution_count": 245,
   "id": "1211aa72",
   "metadata": {},
   "outputs": [],
   "source": [
    "correlation = bikes_prep[['temp','atemp','humidity','windspeed','demand']].corr()"
   ]
  },
  {
   "cell_type": "code",
   "execution_count": 246,
   "id": "e0ba53da",
   "metadata": {},
   "outputs": [
    {
     "data": {
      "text/html": [
       "<div>\n",
       "<style scoped>\n",
       "    .dataframe tbody tr th:only-of-type {\n",
       "        vertical-align: middle;\n",
       "    }\n",
       "\n",
       "    .dataframe tbody tr th {\n",
       "        vertical-align: top;\n",
       "    }\n",
       "\n",
       "    .dataframe thead th {\n",
       "        text-align: right;\n",
       "    }\n",
       "</style>\n",
       "<table border=\"1\" class=\"dataframe\">\n",
       "  <thead>\n",
       "    <tr style=\"text-align: right;\">\n",
       "      <th></th>\n",
       "      <th>temp</th>\n",
       "      <th>atemp</th>\n",
       "      <th>humidity</th>\n",
       "      <th>windspeed</th>\n",
       "      <th>demand</th>\n",
       "    </tr>\n",
       "  </thead>\n",
       "  <tbody>\n",
       "    <tr>\n",
       "      <th>temp</th>\n",
       "      <td>1.000000</td>\n",
       "      <td>0.987672</td>\n",
       "      <td>-0.069881</td>\n",
       "      <td>-0.023125</td>\n",
       "      <td>0.404772</td>\n",
       "    </tr>\n",
       "    <tr>\n",
       "      <th>atemp</th>\n",
       "      <td>0.987672</td>\n",
       "      <td>1.000000</td>\n",
       "      <td>-0.051918</td>\n",
       "      <td>-0.062336</td>\n",
       "      <td>0.400929</td>\n",
       "    </tr>\n",
       "    <tr>\n",
       "      <th>humidity</th>\n",
       "      <td>-0.069881</td>\n",
       "      <td>-0.051918</td>\n",
       "      <td>1.000000</td>\n",
       "      <td>-0.290105</td>\n",
       "      <td>-0.322911</td>\n",
       "    </tr>\n",
       "    <tr>\n",
       "      <th>windspeed</th>\n",
       "      <td>-0.023125</td>\n",
       "      <td>-0.062336</td>\n",
       "      <td>-0.290105</td>\n",
       "      <td>1.000000</td>\n",
       "      <td>0.093234</td>\n",
       "    </tr>\n",
       "    <tr>\n",
       "      <th>demand</th>\n",
       "      <td>0.404772</td>\n",
       "      <td>0.400929</td>\n",
       "      <td>-0.322911</td>\n",
       "      <td>0.093234</td>\n",
       "      <td>1.000000</td>\n",
       "    </tr>\n",
       "  </tbody>\n",
       "</table>\n",
       "</div>"
      ],
      "text/plain": [
       "               temp     atemp  humidity  windspeed    demand\n",
       "temp       1.000000  0.987672 -0.069881  -0.023125  0.404772\n",
       "atemp      0.987672  1.000000 -0.051918  -0.062336  0.400929\n",
       "humidity  -0.069881 -0.051918  1.000000  -0.290105 -0.322911\n",
       "windspeed -0.023125 -0.062336 -0.290105   1.000000  0.093234\n",
       "demand     0.404772  0.400929 -0.322911   0.093234  1.000000"
      ]
     },
     "execution_count": 246,
     "metadata": {},
     "output_type": "execute_result"
    }
   ],
   "source": [
    "correlation"
   ]
  },
  {
   "cell_type": "code",
   "execution_count": 247,
   "id": "88cd8542",
   "metadata": {},
   "outputs": [],
   "source": [
    "# drop atemp and windspeed"
   ]
  },
  {
   "cell_type": "code",
   "execution_count": 248,
   "id": "4dabf0b8",
   "metadata": {},
   "outputs": [],
   "source": [
    "bikes_prep = bikes_prep.drop(['weekday','year','workingday','atemp','windspeed'],axis = 1)"
   ]
  },
  {
   "cell_type": "code",
   "execution_count": 249,
   "id": "6abcd18a",
   "metadata": {},
   "outputs": [
    {
     "data": {
      "text/html": [
       "<div>\n",
       "<style scoped>\n",
       "    .dataframe tbody tr th:only-of-type {\n",
       "        vertical-align: middle;\n",
       "    }\n",
       "\n",
       "    .dataframe tbody tr th {\n",
       "        vertical-align: top;\n",
       "    }\n",
       "\n",
       "    .dataframe thead th {\n",
       "        text-align: right;\n",
       "    }\n",
       "</style>\n",
       "<table border=\"1\" class=\"dataframe\">\n",
       "  <thead>\n",
       "    <tr style=\"text-align: right;\">\n",
       "      <th></th>\n",
       "      <th>season</th>\n",
       "      <th>month</th>\n",
       "      <th>hour</th>\n",
       "      <th>holiday</th>\n",
       "      <th>weather</th>\n",
       "      <th>temp</th>\n",
       "      <th>humidity</th>\n",
       "      <th>demand</th>\n",
       "    </tr>\n",
       "  </thead>\n",
       "  <tbody>\n",
       "    <tr>\n",
       "      <th>0</th>\n",
       "      <td>1</td>\n",
       "      <td>1</td>\n",
       "      <td>0</td>\n",
       "      <td>0</td>\n",
       "      <td>1</td>\n",
       "      <td>0.24</td>\n",
       "      <td>0.81</td>\n",
       "      <td>16</td>\n",
       "    </tr>\n",
       "    <tr>\n",
       "      <th>1</th>\n",
       "      <td>1</td>\n",
       "      <td>1</td>\n",
       "      <td>1</td>\n",
       "      <td>0</td>\n",
       "      <td>1</td>\n",
       "      <td>0.22</td>\n",
       "      <td>0.80</td>\n",
       "      <td>40</td>\n",
       "    </tr>\n",
       "    <tr>\n",
       "      <th>2</th>\n",
       "      <td>1</td>\n",
       "      <td>1</td>\n",
       "      <td>2</td>\n",
       "      <td>0</td>\n",
       "      <td>1</td>\n",
       "      <td>0.22</td>\n",
       "      <td>0.80</td>\n",
       "      <td>32</td>\n",
       "    </tr>\n",
       "    <tr>\n",
       "      <th>3</th>\n",
       "      <td>1</td>\n",
       "      <td>1</td>\n",
       "      <td>3</td>\n",
       "      <td>0</td>\n",
       "      <td>1</td>\n",
       "      <td>0.24</td>\n",
       "      <td>0.75</td>\n",
       "      <td>13</td>\n",
       "    </tr>\n",
       "    <tr>\n",
       "      <th>4</th>\n",
       "      <td>1</td>\n",
       "      <td>1</td>\n",
       "      <td>4</td>\n",
       "      <td>0</td>\n",
       "      <td>1</td>\n",
       "      <td>0.24</td>\n",
       "      <td>0.75</td>\n",
       "      <td>1</td>\n",
       "    </tr>\n",
       "    <tr>\n",
       "      <th>5</th>\n",
       "      <td>1</td>\n",
       "      <td>1</td>\n",
       "      <td>5</td>\n",
       "      <td>0</td>\n",
       "      <td>2</td>\n",
       "      <td>0.24</td>\n",
       "      <td>0.75</td>\n",
       "      <td>1</td>\n",
       "    </tr>\n",
       "    <tr>\n",
       "      <th>6</th>\n",
       "      <td>1</td>\n",
       "      <td>1</td>\n",
       "      <td>6</td>\n",
       "      <td>0</td>\n",
       "      <td>1</td>\n",
       "      <td>0.22</td>\n",
       "      <td>0.80</td>\n",
       "      <td>2</td>\n",
       "    </tr>\n",
       "    <tr>\n",
       "      <th>7</th>\n",
       "      <td>1</td>\n",
       "      <td>1</td>\n",
       "      <td>7</td>\n",
       "      <td>0</td>\n",
       "      <td>1</td>\n",
       "      <td>0.20</td>\n",
       "      <td>0.86</td>\n",
       "      <td>3</td>\n",
       "    </tr>\n",
       "  </tbody>\n",
       "</table>\n",
       "</div>"
      ],
      "text/plain": [
       "   season  month  hour  holiday  weather  temp  humidity  demand\n",
       "0       1      1     0        0        1  0.24      0.81      16\n",
       "1       1      1     1        0        1  0.22      0.80      40\n",
       "2       1      1     2        0        1  0.22      0.80      32\n",
       "3       1      1     3        0        1  0.24      0.75      13\n",
       "4       1      1     4        0        1  0.24      0.75       1\n",
       "5       1      1     5        0        2  0.24      0.75       1\n",
       "6       1      1     6        0        1  0.22      0.80       2\n",
       "7       1      1     7        0        1  0.20      0.86       3"
      ]
     },
     "execution_count": 249,
     "metadata": {},
     "output_type": "execute_result"
    }
   ],
   "source": [
    "bikes_prep.head(8)"
   ]
  },
  {
   "cell_type": "code",
   "execution_count": 250,
   "id": "6adced37",
   "metadata": {},
   "outputs": [
    {
     "data": {
      "text/plain": [
       "(17379, 8)"
      ]
     },
     "execution_count": 250,
     "metadata": {},
     "output_type": "execute_result"
    }
   ],
   "source": [
    "bikes_prep.shape"
   ]
  },
  {
   "cell_type": "code",
   "execution_count": 251,
   "id": "bb498c60",
   "metadata": {},
   "outputs": [],
   "source": [
    "# Check the autocorrelation in demand using acorr"
   ]
  },
  {
   "cell_type": "code",
   "execution_count": 252,
   "id": "0b32ed97",
   "metadata": {},
   "outputs": [],
   "source": [
    "df1 = pd.to_numeric(bikes_prep['demand'], downcast= 'float')"
   ]
  },
  {
   "cell_type": "code",
   "execution_count": 253,
   "id": "28f4ba14",
   "metadata": {},
   "outputs": [
    {
     "data": {
      "image/png": "[encoded data removed]",
      "text/plain": [
       "<Figure size 432x288 with 1 Axes>"
      ]
     },
     "metadata": {
      "needs_background": "light"
     },
     "output_type": "display_data"
    }
   ],
   "source": [
    "plt.acorr(df1,maxlags = 12)\n",
    "plt.show()"
   ]
  },
  {
   "cell_type": "code",
   "execution_count": 254,
   "id": "aa83b556",
   "metadata": {},
   "outputs": [],
   "source": [
    "# there is high autocorrelation for the demand feature"
   ]
  },
  {
   "cell_type": "code",
   "execution_count": 255,
   "id": "aeeeacd7",
   "metadata": {},
   "outputs": [],
   "source": [
    "# ----------------------------------\n",
    "# Step 6 - Create / Modify new features\n",
    "# -----------------------------------"
   ]
  },
  {
   "cell_type": "code",
   "execution_count": 256,
   "id": "a1e03159",
   "metadata": {},
   "outputs": [],
   "source": [
    "# Log Normalise the feture 'demand'"
   ]
  },
  {
   "cell_type": "code",
   "execution_count": 257,
   "id": "ef824559",
   "metadata": {},
   "outputs": [],
   "source": [
    "df1 = bikes_prep['demand']\n",
    "df2 = np.log(df1)"
   ]
  },
  {
   "cell_type": "code",
   "execution_count": 258,
   "id": "f17538b7",
   "metadata": {},
   "outputs": [
    {
     "data": {
      "text/plain": [
       "<AxesSubplot:>"
      ]
     },
     "execution_count": 258,
     "metadata": {},
     "output_type": "execute_result"
    },
    {
     "data": {
      "image/png": "[encoded data removed]",
      "text/plain": [
       "<Figure size 432x288 with 1 Axes>"
      ]
     },
     "metadata": {
      "needs_background": "light"
     },
     "output_type": "display_data"
    }
   ],
   "source": [
    "plt.figure()\n",
    "df1.hist(rwidth = 0.9, bins = 20)"
   ]
  },
  {
   "cell_type": "code",
   "execution_count": 259,
   "id": "9cd9690f",
   "metadata": {},
   "outputs": [
    {
     "data": {
      "text/plain": [
       "<AxesSubplot:>"
      ]
     },
     "execution_count": 259,
     "metadata": {},
     "output_type": "execute_result"
    },
    {
     "data": {
      "image/png": "[encoded data removed]",
      "text/plain": [
       "<Figure size 432x288 with 1 Axes>"
      ]
     },
     "metadata": {
      "needs_background": "light"
     },
     "output_type": "display_data"
    }
   ],
   "source": [
    "plt.figure()\n",
    "df2.hist(rwidth = 0.9, bins = 20)"
   ]
  },
  {
   "cell_type": "code",
   "execution_count": 260,
   "id": "85faa6f8",
   "metadata": {},
   "outputs": [],
   "source": [
    "bikes_prep['demand'] = np.log(bikes_prep['demand'])"
   ]
  },
  {
   "cell_type": "code",
   "execution_count": 261,
   "id": "3b3843b1",
   "metadata": {},
   "outputs": [],
   "source": [
    "# Autocorrelation in the demand column"
   ]
  },
  {
   "cell_type": "code",
   "execution_count": 262,
   "id": "5bee3b98",
   "metadata": {},
   "outputs": [],
   "source": [
    "t_1 = bikes_prep['demand'].shift(+1).to_frame()\n",
    "t_1.columns = ['t-1']\n",
    "\n",
    "t_2 = bikes_prep['demand'].shift(+2).to_frame()\n",
    "t_2.columns = ['t-2']\n",
    "\n",
    "t_3 = bikes_prep['demand'].shift(+3).to_frame()\n",
    "t_3.columns = ['t-3']"
   ]
  },
  {
   "cell_type": "code",
   "execution_count": 263,
   "id": "bbc11328",
   "metadata": {},
   "outputs": [],
   "source": [
    "bikes_prep_lag = pd.concat([bikes_prep,t_1,t_2,t_3], axis=1)"
   ]
  },
  {
   "cell_type": "code",
   "execution_count": 264,
   "id": "20955f3d",
   "metadata": {},
   "outputs": [
    {
     "data": {
      "text/html": [
       "<div>\n",
       "<style scoped>\n",
       "    .dataframe tbody tr th:only-of-type {\n",
       "        vertical-align: middle;\n",
       "    }\n",
       "\n",
       "    .dataframe tbody tr th {\n",
       "        vertical-align: top;\n",
       "    }\n",
       "\n",
       "    .dataframe thead th {\n",
       "        text-align: right;\n",
       "    }\n",
       "</style>\n",
       "<table border=\"1\" class=\"dataframe\">\n",
       "  <thead>\n",
       "    <tr style=\"text-align: right;\">\n",
       "      <th></th>\n",
       "      <th>season</th>\n",
       "      <th>month</th>\n",
       "      <th>hour</th>\n",
       "      <th>holiday</th>\n",
       "      <th>weather</th>\n",
       "      <th>temp</th>\n",
       "      <th>humidity</th>\n",
       "      <th>demand</th>\n",
       "      <th>t-1</th>\n",
       "      <th>t-2</th>\n",
       "      <th>t-3</th>\n",
       "    </tr>\n",
       "  </thead>\n",
       "  <tbody>\n",
       "    <tr>\n",
       "      <th>0</th>\n",
       "      <td>1</td>\n",
       "      <td>1</td>\n",
       "      <td>0</td>\n",
       "      <td>0</td>\n",
       "      <td>1</td>\n",
       "      <td>0.24</td>\n",
       "      <td>0.81</td>\n",
       "      <td>2.772589</td>\n",
       "      <td>NaN</td>\n",
       "      <td>NaN</td>\n",
       "      <td>NaN</td>\n",
       "    </tr>\n",
       "    <tr>\n",
       "      <th>1</th>\n",
       "      <td>1</td>\n",
       "      <td>1</td>\n",
       "      <td>1</td>\n",
       "      <td>0</td>\n",
       "      <td>1</td>\n",
       "      <td>0.22</td>\n",
       "      <td>0.80</td>\n",
       "      <td>3.688879</td>\n",
       "      <td>2.772589</td>\n",
       "      <td>NaN</td>\n",
       "      <td>NaN</td>\n",
       "    </tr>\n",
       "    <tr>\n",
       "      <th>2</th>\n",
       "      <td>1</td>\n",
       "      <td>1</td>\n",
       "      <td>2</td>\n",
       "      <td>0</td>\n",
       "      <td>1</td>\n",
       "      <td>0.22</td>\n",
       "      <td>0.80</td>\n",
       "      <td>3.465736</td>\n",
       "      <td>3.688879</td>\n",
       "      <td>2.772589</td>\n",
       "      <td>NaN</td>\n",
       "    </tr>\n",
       "    <tr>\n",
       "      <th>3</th>\n",
       "      <td>1</td>\n",
       "      <td>1</td>\n",
       "      <td>3</td>\n",
       "      <td>0</td>\n",
       "      <td>1</td>\n",
       "      <td>0.24</td>\n",
       "      <td>0.75</td>\n",
       "      <td>2.564949</td>\n",
       "      <td>3.465736</td>\n",
       "      <td>3.688879</td>\n",
       "      <td>2.772589</td>\n",
       "    </tr>\n",
       "    <tr>\n",
       "      <th>4</th>\n",
       "      <td>1</td>\n",
       "      <td>1</td>\n",
       "      <td>4</td>\n",
       "      <td>0</td>\n",
       "      <td>1</td>\n",
       "      <td>0.24</td>\n",
       "      <td>0.75</td>\n",
       "      <td>0.000000</td>\n",
       "      <td>2.564949</td>\n",
       "      <td>3.465736</td>\n",
       "      <td>3.688879</td>\n",
       "    </tr>\n",
       "  </tbody>\n",
       "</table>\n",
       "</div>"
      ],
      "text/plain": [
       "   season  month  hour  holiday  weather  temp  humidity    demand       t-1  \\\n",
       "0       1      1     0        0        1  0.24      0.81  2.772589       NaN   \n",
       "1       1      1     1        0        1  0.22      0.80  3.688879  2.772589   \n",
       "2       1      1     2        0        1  0.22      0.80  3.465736  3.688879   \n",
       "3       1      1     3        0        1  0.24      0.75  2.564949  3.465736   \n",
       "4       1      1     4        0        1  0.24      0.75  0.000000  2.564949   \n",
       "\n",
       "        t-2       t-3  \n",
       "0       NaN       NaN  \n",
       "1       NaN       NaN  \n",
       "2  2.772589       NaN  \n",
       "3  3.688879  2.772589  \n",
       "4  3.465736  3.688879  "
      ]
     },
     "execution_count": 264,
     "metadata": {},
     "output_type": "execute_result"
    }
   ],
   "source": [
    "bikes_prep_lag.head(5)"
   ]
  },
  {
   "cell_type": "code",
   "execution_count": 265,
   "id": "f958ea26",
   "metadata": {},
   "outputs": [
    {
     "data": {
      "text/plain": [
       "season      0\n",
       "month       0\n",
       "hour        0\n",
       "holiday     0\n",
       "weather     0\n",
       "temp        0\n",
       "humidity    0\n",
       "demand      0\n",
       "t-1         1\n",
       "t-2         2\n",
       "t-3         3\n",
       "dtype: int64"
      ]
     },
     "execution_count": 265,
     "metadata": {},
     "output_type": "execute_result"
    }
   ],
   "source": [
    "bikes_prep_lag.isnull().sum()"
   ]
  },
  {
   "cell_type": "code",
   "execution_count": 266,
   "id": "973fe8f6",
   "metadata": {},
   "outputs": [
    {
     "data": {
      "text/plain": [
       "(17379, 11)"
      ]
     },
     "execution_count": 266,
     "metadata": {},
     "output_type": "execute_result"
    }
   ],
   "source": [
    "bikes_prep_lag.shape"
   ]
  },
  {
   "cell_type": "code",
   "execution_count": 267,
   "id": "80b3b22e",
   "metadata": {},
   "outputs": [],
   "source": [
    "bikes_prep_lag = bikes_prep_lag.dropna()"
   ]
  },
  {
   "cell_type": "code",
   "execution_count": 268,
   "id": "57e78c48",
   "metadata": {},
   "outputs": [
    {
     "data": {
      "text/plain": [
       "season      0\n",
       "month       0\n",
       "hour        0\n",
       "holiday     0\n",
       "weather     0\n",
       "temp        0\n",
       "humidity    0\n",
       "demand      0\n",
       "t-1         0\n",
       "t-2         0\n",
       "t-3         0\n",
       "dtype: int64"
      ]
     },
     "execution_count": 268,
     "metadata": {},
     "output_type": "execute_result"
    }
   ],
   "source": [
    "bikes_prep_lag.isnull().sum()"
   ]
  },
  {
   "cell_type": "code",
   "execution_count": 269,
   "id": "8c2eb1dc",
   "metadata": {},
   "outputs": [
    {
     "data": {
      "text/plain": [
       "(17376, 11)"
      ]
     },
     "execution_count": 269,
     "metadata": {},
     "output_type": "execute_result"
    }
   ],
   "source": [
    "bikes_prep_lag.shape"
   ]
  },
  {
   "cell_type": "code",
   "execution_count": 270,
   "id": "6c0b04d3",
   "metadata": {},
   "outputs": [],
   "source": [
    "# -----------------------------------------------------------\n",
    "# Step 7 - Create Dummy Variables and drop first\n",
    "#          to avoid dummy variables trap using get_dummies\n",
    "# -----------------------------------------------------------"
   ]
  },
  {
   "cell_type": "code",
   "execution_count": 271,
   "id": "41ef8977",
   "metadata": {},
   "outputs": [],
   "source": [
    "# - season, holiday, weather, month, hour"
   ]
  },
  {
   "cell_type": "code",
   "execution_count": 272,
   "id": "bd6e9540",
   "metadata": {},
   "outputs": [
    {
     "data": {
      "text/plain": [
       "season        int64\n",
       "month         int64\n",
       "hour          int64\n",
       "holiday       int64\n",
       "weather       int64\n",
       "temp        float64\n",
       "humidity    float64\n",
       "demand      float64\n",
       "t-1         float64\n",
       "t-2         float64\n",
       "t-3         float64\n",
       "dtype: object"
      ]
     },
     "execution_count": 272,
     "metadata": {},
     "output_type": "execute_result"
    }
   ],
   "source": [
    "bikes_prep_lag.dtypes"
   ]
  },
  {
   "cell_type": "code",
   "execution_count": 293,
   "id": "5fe55b76",
   "metadata": {},
   "outputs": [],
   "source": [
    "bikes_prep_lag['season'] = bikes_prep_lag['season'].astype('category')\n",
    "bikes_prep_lag['holiday'] = bikes_prep_lag['holiday'].astype('category')\n",
    "bikes_prep_lag['weather'] = bikes_prep_lag['weather'].astype('category')\n",
    "bikes_prep_lag['month'] = bikes_prep_lag['month'].astype('category')\n",
    "bikes_prep_lag['hour'] = bikes_prep_lag['hour'].astype('category')"
   ]
  },
  {
   "cell_type": "code",
   "execution_count": 294,
   "id": "7e6ecc25",
   "metadata": {},
   "outputs": [
    {
     "data": {
      "text/plain": [
       "season      category\n",
       "month       category\n",
       "hour        category\n",
       "holiday     category\n",
       "weather     category\n",
       "temp         float64\n",
       "humidity     float64\n",
       "demand       float64\n",
       "t-1          float64\n",
       "t-2          float64\n",
       "t-3          float64\n",
       "dtype: object"
      ]
     },
     "execution_count": 294,
     "metadata": {},
     "output_type": "execute_result"
    }
   ],
   "source": [
    "bikes_prep_lag.dtypes"
   ]
  },
  {
   "cell_type": "code",
   "execution_count": 295,
   "id": "40781768",
   "metadata": {},
   "outputs": [],
   "source": [
    "bikes_prep_lag = pd.get_dummies(bikes_prep_lag, drop_first=True)"
   ]
  },
  {
   "cell_type": "code",
   "execution_count": 296,
   "id": "4a6f1cb5",
   "metadata": {
    "scrolled": true
   },
   "outputs": [
    {
     "data": {
      "text/html": [
       "<div>\n",
       "<style scoped>\n",
       "    .dataframe tbody tr th:only-of-type {\n",
       "        vertical-align: middle;\n",
       "    }\n",
       "\n",
       "    .dataframe tbody tr th {\n",
       "        vertical-align: top;\n",
       "    }\n",
       "\n",
       "    .dataframe thead th {\n",
       "        text-align: right;\n",
       "    }\n",
       "</style>\n",
       "<table border=\"1\" class=\"dataframe\">\n",
       "  <thead>\n",
       "    <tr style=\"text-align: right;\">\n",
       "      <th></th>\n",
       "      <th>temp</th>\n",
       "      <th>humidity</th>\n",
       "      <th>demand</th>\n",
       "      <th>t-1</th>\n",
       "      <th>t-2</th>\n",
       "      <th>t-3</th>\n",
       "      <th>season_2</th>\n",
       "      <th>season_3</th>\n",
       "      <th>season_4</th>\n",
       "      <th>month_2</th>\n",
       "      <th>...</th>\n",
       "      <th>hour_18</th>\n",
       "      <th>hour_19</th>\n",
       "      <th>hour_20</th>\n",
       "      <th>hour_21</th>\n",
       "      <th>hour_22</th>\n",
       "      <th>hour_23</th>\n",
       "      <th>holiday_1</th>\n",
       "      <th>weather_2</th>\n",
       "      <th>weather_3</th>\n",
       "      <th>weather_4</th>\n",
       "    </tr>\n",
       "  </thead>\n",
       "  <tbody>\n",
       "    <tr>\n",
       "      <th>3</th>\n",
       "      <td>0.24</td>\n",
       "      <td>0.75</td>\n",
       "      <td>2.564949</td>\n",
       "      <td>3.465736</td>\n",
       "      <td>3.688879</td>\n",
       "      <td>2.772589</td>\n",
       "      <td>0</td>\n",
       "      <td>0</td>\n",
       "      <td>0</td>\n",
       "      <td>0</td>\n",
       "      <td>...</td>\n",
       "      <td>0</td>\n",
       "      <td>0</td>\n",
       "      <td>0</td>\n",
       "      <td>0</td>\n",
       "      <td>0</td>\n",
       "      <td>0</td>\n",
       "      <td>0</td>\n",
       "      <td>0</td>\n",
       "      <td>0</td>\n",
       "      <td>0</td>\n",
       "    </tr>\n",
       "    <tr>\n",
       "      <th>4</th>\n",
       "      <td>0.24</td>\n",
       "      <td>0.75</td>\n",
       "      <td>0.000000</td>\n",
       "      <td>2.564949</td>\n",
       "      <td>3.465736</td>\n",
       "      <td>3.688879</td>\n",
       "      <td>0</td>\n",
       "      <td>0</td>\n",
       "      <td>0</td>\n",
       "      <td>0</td>\n",
       "      <td>...</td>\n",
       "      <td>0</td>\n",
       "      <td>0</td>\n",
       "      <td>0</td>\n",
       "      <td>0</td>\n",
       "      <td>0</td>\n",
       "      <td>0</td>\n",
       "      <td>0</td>\n",
       "      <td>0</td>\n",
       "      <td>0</td>\n",
       "      <td>0</td>\n",
       "    </tr>\n",
       "    <tr>\n",
       "      <th>5</th>\n",
       "      <td>0.24</td>\n",
       "      <td>0.75</td>\n",
       "      <td>0.000000</td>\n",
       "      <td>0.000000</td>\n",
       "      <td>2.564949</td>\n",
       "      <td>3.465736</td>\n",
       "      <td>0</td>\n",
       "      <td>0</td>\n",
       "      <td>0</td>\n",
       "      <td>0</td>\n",
       "      <td>...</td>\n",
       "      <td>0</td>\n",
       "      <td>0</td>\n",
       "      <td>0</td>\n",
       "      <td>0</td>\n",
       "      <td>0</td>\n",
       "      <td>0</td>\n",
       "      <td>0</td>\n",
       "      <td>1</td>\n",
       "      <td>0</td>\n",
       "      <td>0</td>\n",
       "    </tr>\n",
       "    <tr>\n",
       "      <th>6</th>\n",
       "      <td>0.22</td>\n",
       "      <td>0.80</td>\n",
       "      <td>0.693147</td>\n",
       "      <td>0.000000</td>\n",
       "      <td>0.000000</td>\n",
       "      <td>2.564949</td>\n",
       "      <td>0</td>\n",
       "      <td>0</td>\n",
       "      <td>0</td>\n",
       "      <td>0</td>\n",
       "      <td>...</td>\n",
       "      <td>0</td>\n",
       "      <td>0</td>\n",
       "      <td>0</td>\n",
       "      <td>0</td>\n",
       "      <td>0</td>\n",
       "      <td>0</td>\n",
       "      <td>0</td>\n",
       "      <td>0</td>\n",
       "      <td>0</td>\n",
       "      <td>0</td>\n",
       "    </tr>\n",
       "    <tr>\n",
       "      <th>7</th>\n",
       "      <td>0.20</td>\n",
       "      <td>0.86</td>\n",
       "      <td>1.098612</td>\n",
       "      <td>0.693147</td>\n",
       "      <td>0.000000</td>\n",
       "      <td>0.000000</td>\n",
       "      <td>0</td>\n",
       "      <td>0</td>\n",
       "      <td>0</td>\n",
       "      <td>0</td>\n",
       "      <td>...</td>\n",
       "      <td>0</td>\n",
       "      <td>0</td>\n",
       "      <td>0</td>\n",
       "      <td>0</td>\n",
       "      <td>0</td>\n",
       "      <td>0</td>\n",
       "      <td>0</td>\n",
       "      <td>0</td>\n",
       "      <td>0</td>\n",
       "      <td>0</td>\n",
       "    </tr>\n",
       "  </tbody>\n",
       "</table>\n",
       "<p>5 rows × 47 columns</p>\n",
       "</div>"
      ],
      "text/plain": [
       "   temp  humidity    demand       t-1       t-2       t-3  season_2  season_3  \\\n",
       "3  0.24      0.75  2.564949  3.465736  3.688879  2.772589         0         0   \n",
       "4  0.24      0.75  0.000000  2.564949  3.465736  3.688879         0         0   \n",
       "5  0.24      0.75  0.000000  0.000000  2.564949  3.465736         0         0   \n",
       "6  0.22      0.80  0.693147  0.000000  0.000000  2.564949         0         0   \n",
       "7  0.20      0.86  1.098612  0.693147  0.000000  0.000000         0         0   \n",
       "\n",
       "   season_4  month_2  ...  hour_18  hour_19  hour_20  hour_21  hour_22  \\\n",
       "3         0        0  ...        0        0        0        0        0   \n",
       "4         0        0  ...        0        0        0        0        0   \n",
       "5         0        0  ...        0        0        0        0        0   \n",
       "6         0        0  ...        0        0        0        0        0   \n",
       "7         0        0  ...        0        0        0        0        0   \n",
       "\n",
       "   hour_23  holiday_1  weather_2  weather_3  weather_4  \n",
       "3        0          0          0          0          0  \n",
       "4        0          0          0          0          0  \n",
       "5        0          0          1          0          0  \n",
       "6        0          0          0          0          0  \n",
       "7        0          0          0          0          0  \n",
       "\n",
       "[5 rows x 47 columns]"
      ]
     },
     "execution_count": 296,
     "metadata": {},
     "output_type": "execute_result"
    }
   ],
   "source": [
    "bikes_prep_lag.head(5)"
   ]
  },
  {
   "cell_type": "code",
   "execution_count": 316,
   "id": "abf830f4",
   "metadata": {},
   "outputs": [
    {
     "data": {
      "text/plain": [
       "(17376, 47)"
      ]
     },
     "execution_count": 316,
     "metadata": {},
     "output_type": "execute_result"
    }
   ],
   "source": [
    "bikes_prep_lag.shape"
   ]
  },
  {
   "cell_type": "code",
   "execution_count": 317,
   "id": "47edd840",
   "metadata": {},
   "outputs": [
    {
     "data": {
      "text/plain": [
       "temp         float64\n",
       "humidity     float64\n",
       "demand       float64\n",
       "t-1          float64\n",
       "t-2          float64\n",
       "t-3          float64\n",
       "season_2       uint8\n",
       "season_3       uint8\n",
       "season_4       uint8\n",
       "month_2        uint8\n",
       "month_3        uint8\n",
       "month_4        uint8\n",
       "month_5        uint8\n",
       "month_6        uint8\n",
       "month_7        uint8\n",
       "month_8        uint8\n",
       "month_9        uint8\n",
       "month_10       uint8\n",
       "month_11       uint8\n",
       "month_12       uint8\n",
       "hour_1         uint8\n",
       "hour_2         uint8\n",
       "hour_3         uint8\n",
       "hour_4         uint8\n",
       "hour_5         uint8\n",
       "hour_6         uint8\n",
       "hour_7         uint8\n",
       "hour_8         uint8\n",
       "hour_9         uint8\n",
       "hour_10        uint8\n",
       "hour_11        uint8\n",
       "hour_12        uint8\n",
       "hour_13        uint8\n",
       "hour_14        uint8\n",
       "hour_15        uint8\n",
       "hour_16        uint8\n",
       "hour_17        uint8\n",
       "hour_18        uint8\n",
       "hour_19        uint8\n",
       "hour_20        uint8\n",
       "hour_21        uint8\n",
       "hour_22        uint8\n",
       "hour_23        uint8\n",
       "holiday_1      uint8\n",
       "weather_2      uint8\n",
       "weather_3      uint8\n",
       "weather_4      uint8\n",
       "dtype: object"
      ]
     },
     "execution_count": 317,
     "metadata": {},
     "output_type": "execute_result"
    }
   ],
   "source": [
    "bikes_prep_lag.dtypes"
   ]
  },
  {
   "cell_type": "code",
   "execution_count": 318,
   "id": "acb36377",
   "metadata": {},
   "outputs": [],
   "source": [
    "# ----------------------------------------------------\n",
    "# Step 8 - Create Train and Test split\n",
    "# ----------------------------------------------------"
   ]
  },
  {
   "cell_type": "code",
   "execution_count": 319,
   "id": "4c4e02e7",
   "metadata": {},
   "outputs": [],
   "source": [
    "# Split the x and y dataset into training and testing set"
   ]
  },
  {
   "cell_type": "code",
   "execution_count": 320,
   "id": "fca9fbf1",
   "metadata": {},
   "outputs": [],
   "source": [
    "from sklearn.model_selection import train_test_split"
   ]
  },
  {
   "cell_type": "code",
   "execution_count": 321,
   "id": "17e49f23",
   "metadata": {},
   "outputs": [],
   "source": [
    "# demand is time dependent or time series\n",
    "Y = bikes_prep_lag[['demand']]\n",
    "X = bikes_prep_lag.drop(['demand'], axis = 1)"
   ]
  },
  {
   "cell_type": "code",
   "execution_count": 322,
   "id": "70d7076c",
   "metadata": {},
   "outputs": [],
   "source": [
    "# Create the size for 70% of the data\n",
    "tr_size = 0.7 * len(X)\n",
    "tr_size = int(tr_size)"
   ]
  },
  {
   "cell_type": "code",
   "execution_count": 323,
   "id": "7a6b7bb9",
   "metadata": {},
   "outputs": [
    {
     "data": {
      "text/plain": [
       "12163"
      ]
     },
     "execution_count": 323,
     "metadata": {},
     "output_type": "execute_result"
    }
   ],
   "source": [
    "tr_size"
   ]
  },
  {
   "cell_type": "code",
   "execution_count": 324,
   "id": "4ab3a4c0",
   "metadata": {},
   "outputs": [],
   "source": [
    "X_train = X.values[0: tr_size]\n",
    "X_test = X.values[tr_size:len(X)]\n",
    "\n",
    "Y_train = Y.values[0: tr_size]\n",
    "Y_test = Y.values[tr_size:len(X)]"
   ]
  },
  {
   "cell_type": "code",
   "execution_count": 325,
   "id": "b03f2baf",
   "metadata": {},
   "outputs": [],
   "source": [
    "# --------------------------------------\n",
    "# 9. Fit and score the model\n",
    "# ----------------------------------------"
   ]
  },
  {
   "cell_type": "code",
   "execution_count": 326,
   "id": "1b600841",
   "metadata": {},
   "outputs": [],
   "source": [
    "# Linear Regression\n",
    "from sklearn.linear_model import LinearRegression"
   ]
  },
  {
   "cell_type": "code",
   "execution_count": 327,
   "id": "3cc9ac27",
   "metadata": {},
   "outputs": [
    {
     "data": {
      "text/plain": [
       "LinearRegression()"
      ]
     },
     "execution_count": 327,
     "metadata": {},
     "output_type": "execute_result"
    }
   ],
   "source": [
    "std_reg = LinearRegression()\n",
    "std_reg.fit(X_train, Y_train)"
   ]
  },
  {
   "cell_type": "code",
   "execution_count": 328,
   "id": "89206aa8",
   "metadata": {},
   "outputs": [],
   "source": [
    "r2_train = std_reg.score(X_train, Y_train)\n",
    "r2_test = std_reg.score(X_test, Y_test)"
   ]
  },
  {
   "cell_type": "code",
   "execution_count": 329,
   "id": "3bef2e86",
   "metadata": {},
   "outputs": [
    {
     "data": {
      "text/plain": [
       "0.9195240591465778"
      ]
     },
     "execution_count": 329,
     "metadata": {},
     "output_type": "execute_result"
    }
   ],
   "source": [
    "r2_train"
   ]
  },
  {
   "cell_type": "code",
   "execution_count": 330,
   "id": "80f4b46f",
   "metadata": {},
   "outputs": [
    {
     "data": {
      "text/plain": [
       "0.9287151360253386"
      ]
     },
     "execution_count": 330,
     "metadata": {},
     "output_type": "execute_result"
    }
   ],
   "source": [
    "r2_test"
   ]
  },
  {
   "cell_type": "code",
   "execution_count": 331,
   "id": "2cd7278b",
   "metadata": {},
   "outputs": [],
   "source": [
    "Y_predict = std_reg.predict(X_test)"
   ]
  },
  {
   "cell_type": "code",
   "execution_count": 332,
   "id": "faec0bc5",
   "metadata": {},
   "outputs": [],
   "source": [
    "# calculate root mean squared value"
   ]
  },
  {
   "cell_type": "code",
   "execution_count": 333,
   "id": "63bc52cc",
   "metadata": {},
   "outputs": [],
   "source": [
    "from sklearn.metrics import mean_squared_error\n",
    "rmse = math.sqrt(mean_squared_error(Y_test, Y_predict))"
   ]
  },
  {
   "cell_type": "code",
   "execution_count": 334,
   "id": "5b4000cc",
   "metadata": {},
   "outputs": [
    {
     "data": {
      "text/plain": [
       "0.3809880049817043"
      ]
     },
     "execution_count": 334,
     "metadata": {},
     "output_type": "execute_result"
    }
   ],
   "source": [
    "rmse"
   ]
  },
  {
   "cell_type": "code",
   "execution_count": 335,
   "id": "b9397a87",
   "metadata": {},
   "outputs": [],
   "source": [
    "# Final Step - Calculate RMSLE and compare results"
   ]
  },
  {
   "cell_type": "code",
   "execution_count": 336,
   "id": "db9c6b91",
   "metadata": {},
   "outputs": [],
   "source": [
    "Y_test_e = []"
   ]
  },
  {
   "cell_type": "code",
   "execution_count": 337,
   "id": "b70f3002",
   "metadata": {},
   "outputs": [],
   "source": [
    "Y_predict_e = []"
   ]
  },
  {
   "cell_type": "code",
   "execution_count": 338,
   "id": "7a8bfc2e",
   "metadata": {},
   "outputs": [],
   "source": [
    "for i in range(0,len(Y_test)):\n",
    "    Y_test_e.append(math.exp(Y_test[i]))\n",
    "    Y_predict_e.append(math.exp(Y_predict[i]))"
   ]
  },
  {
   "cell_type": "code",
   "execution_count": 340,
   "id": "f74d7621",
   "metadata": {},
   "outputs": [],
   "source": [
    "# Do the sum of the logs and squares (RMSLE)\n",
    "log_sq_sum = 0.0\n",
    "for i in range(0, len(Y_test_e)):\n",
    "    log_a = math.log(Y_test_e[i]+1)\n",
    "    log_p = math.log(Y_predict_e[i]+1)\n",
    "    log_diff = (log_a - log_p)**2\n",
    "    log_sq_sum = log_sq_sum + log_diff"
   ]
  },
  {
   "cell_type": "code",
   "execution_count": 341,
   "id": "9c5cd671",
   "metadata": {},
   "outputs": [],
   "source": [
    "rmsle = math.sqrt(log_sq_sum/len(Y_test))"
   ]
  },
  {
   "cell_type": "code",
   "execution_count": 342,
   "id": "37b7f0f5",
   "metadata": {},
   "outputs": [
    {
     "data": {
      "text/plain": [
       "0.3560941706980208"
      ]
     },
     "execution_count": 342,
     "metadata": {},
     "output_type": "execute_result"
    }
   ],
   "source": [
    "rmsle"
   ]
  }
 ],
 "metadata": {
  "kernelspec": {
   "display_name": "Python 3",
   "language": "python",
   "name": "python3"
  },
  "language_info": {
   "codemirror_mode": {
    "name": "ipython",
    "version": 3
   },
   "file_extension": ".py",
   "mimetype": "text/x-python",
   "name": "python",
   "nbconvert_exporter": "python",
   "pygments_lexer": "ipython3",
   "version": "3.8.8"
  }
 },
 "nbformat": 4,
 "nbformat_minor": 5
}
